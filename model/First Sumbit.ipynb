{
 "cells": [
  {
   "cell_type": "markdown",
   "metadata": {},
   "source": [
    "# Instacart - Shortest Path to Submission\n",
    "## 1. 問題定義\n",
    "- userごとにorderの記録が時系列順に並んでいる\n",
    "- あるuserが過去注文したアイテムを再注文した場合、\"reorder\"フラグが立てられている\n",
    "- 各userの最新orderについて、reorderしたアイテムを複数予測する\n",
    "    - 実際にreorderしたアイテムを多く含み、かつreorderしたアイテムをなるべく含まないようにする\n",
    "    - ひとつもreorderが無いと予想した場合は\"None\"を出力する\n",
    "\n",
    "(参考)リレーション\n",
    "\n",
    "https://www.kaggle.com/c/instacart-market-basket-analysis/discussion/33205\n",
    "\n",
    "## 2. データを眺める\n",
    "略。公式のDataページかKernelを見てザックリ雰囲気をつかむ\n",
    "- https://www.kaggle.com/c/instacart-market-basket-analysis/data\n",
    "\n",
    "## 3. First Submission\n",
    "とりあえず、ユーザーごとに「過去買ったものは全部reorderする」という予測でsubmissionを作ってみる"
   ]
  },
  {
   "cell_type": "code",
   "execution_count": 1,
   "metadata": {},
   "outputs": [
    {
     "name": "stdout",
     "output_type": "stream",
     "text": [
      "load data - done in 1s\n"
     ]
    }
   ],
   "source": [
    "import pandas as pd\n",
    "import numpy as np\n",
    "import os\n",
    "import time\n",
    "from contextlib import contextmanager\n",
    "\n",
    "%matplotlib inline\n",
    "import matplotlib.pyplot as plt\n",
    "import seaborn as sns\n",
    "\n",
    "@contextmanager\n",
    "def timer(title):\n",
    "    t0 = time.time()\n",
    "    yield\n",
    "    print(\"{} - done in {:.0f}s\".format(title, time.time() - t0))\n",
    "\n",
    "# まずfeatherに変換しておく\n",
    "def load(path):\n",
    "    if not os.path.exists(path+'.f'):\n",
    "        pd.read_csv(path).to_feather(path+'.f')\n",
    "    return pd.read_feather(path+'.f')\n",
    "\n",
    "with timer('load data'):\n",
    "    aisles      = load('../input/aisles.csv')\n",
    "    departments = load('../input/departments.csv')\n",
    "    prior       = load('../input/order_products__prior.csv')\n",
    "    train       = load('../input/order_products__train.csv')\n",
    "    orders      = load('../input/orders.csv')\n",
    "    products    = load('../input/products.csv')"
   ]
  },
  {
   "cell_type": "code",
   "execution_count": 2,
   "metadata": {},
   "outputs": [
    {
     "name": "stdout",
     "output_type": "stream",
     "text": [
      "(32434489, 5)\n",
      "(13307953, 5)\n",
      "merge & drop duplicates - done in 11s\n"
     ]
    },
    {
     "data": {
      "text/html": [
       "<div>\n",
       "<style scoped>\n",
       "    .dataframe tbody tr th:only-of-type {\n",
       "        vertical-align: middle;\n",
       "    }\n",
       "\n",
       "    .dataframe tbody tr th {\n",
       "        vertical-align: top;\n",
       "    }\n",
       "\n",
       "    .dataframe thead th {\n",
       "        text-align: right;\n",
       "    }\n",
       "</style>\n",
       "<table border=\"1\" class=\"dataframe\">\n",
       "  <thead>\n",
       "    <tr style=\"text-align: right;\">\n",
       "      <th></th>\n",
       "      <th>order_id</th>\n",
       "      <th>product_id</th>\n",
       "      <th>add_to_cart_order</th>\n",
       "      <th>reordered</th>\n",
       "      <th>user_id</th>\n",
       "    </tr>\n",
       "  </thead>\n",
       "  <tbody>\n",
       "    <tr>\n",
       "      <th>0</th>\n",
       "      <td>2</td>\n",
       "      <td>33120</td>\n",
       "      <td>1</td>\n",
       "      <td>1</td>\n",
       "      <td>202279</td>\n",
       "    </tr>\n",
       "    <tr>\n",
       "      <th>1</th>\n",
       "      <td>2</td>\n",
       "      <td>28985</td>\n",
       "      <td>2</td>\n",
       "      <td>1</td>\n",
       "      <td>202279</td>\n",
       "    </tr>\n",
       "    <tr>\n",
       "      <th>2</th>\n",
       "      <td>2</td>\n",
       "      <td>9327</td>\n",
       "      <td>3</td>\n",
       "      <td>0</td>\n",
       "      <td>202279</td>\n",
       "    </tr>\n",
       "    <tr>\n",
       "      <th>3</th>\n",
       "      <td>2</td>\n",
       "      <td>45918</td>\n",
       "      <td>4</td>\n",
       "      <td>1</td>\n",
       "      <td>202279</td>\n",
       "    </tr>\n",
       "    <tr>\n",
       "      <th>4</th>\n",
       "      <td>2</td>\n",
       "      <td>30035</td>\n",
       "      <td>5</td>\n",
       "      <td>0</td>\n",
       "      <td>202279</td>\n",
       "    </tr>\n",
       "  </tbody>\n",
       "</table>\n",
       "</div>"
      ],
      "text/plain": [
       "   order_id  product_id  add_to_cart_order  reordered  user_id\n",
       "0         2       33120                  1          1   202279\n",
       "1         2       28985                  2          1   202279\n",
       "2         2        9327                  3          0   202279\n",
       "3         2       45918                  4          1   202279\n",
       "4         2       30035                  5          0   202279"
      ]
     },
     "execution_count": 2,
     "metadata": {},
     "output_type": "execute_result"
    }
   ],
   "source": [
    "# order-id/user-id/product-idを一つにまとめる\n",
    "with timer('merge & drop duplicates'):\n",
    "    prior_orders = pd.merge(prior, orders[['order_id','user_id']], on='order_id', how='left')\n",
    "    print(prior_orders.shape)\n",
    "    prior_orders.drop_duplicates(subset=['user_id','product_id'], inplace=True)\n",
    "    print(prior_orders.shape)   \n",
    "    \n",
    "prior_orders.head()"
   ]
  },
  {
   "cell_type": "code",
   "execution_count": 3,
   "metadata": {},
   "outputs": [
    {
     "name": "stdout",
     "output_type": "stream",
     "text": [
      "aggregate prior products - done in 16s\n"
     ]
    },
    {
     "data": {
      "text/html": [
       "<div>\n",
       "<style scoped>\n",
       "    .dataframe tbody tr th:only-of-type {\n",
       "        vertical-align: middle;\n",
       "    }\n",
       "\n",
       "    .dataframe tbody tr th {\n",
       "        vertical-align: top;\n",
       "    }\n",
       "\n",
       "    .dataframe thead th {\n",
       "        text-align: right;\n",
       "    }\n",
       "</style>\n",
       "<table border=\"1\" class=\"dataframe\">\n",
       "  <thead>\n",
       "    <tr style=\"text-align: right;\">\n",
       "      <th></th>\n",
       "      <th>user_id</th>\n",
       "      <th>product_id_str</th>\n",
       "    </tr>\n",
       "  </thead>\n",
       "  <tbody>\n",
       "    <tr>\n",
       "      <th>0</th>\n",
       "      <td>1</td>\n",
       "      <td>196 12427 10258 25133 10326 17122 41787 13176 ...</td>\n",
       "    </tr>\n",
       "    <tr>\n",
       "      <th>1</th>\n",
       "      <td>2</td>\n",
       "      <td>49451 32792 32139 34688 36735 37646 22829 2485...</td>\n",
       "    </tr>\n",
       "    <tr>\n",
       "      <th>2</th>\n",
       "      <td>3</td>\n",
       "      <td>38596 21903 248 40604 8021 17668 21137 23650 3...</td>\n",
       "    </tr>\n",
       "    <tr>\n",
       "      <th>3</th>\n",
       "      <td>4</td>\n",
       "      <td>22199 25146 1200 17769 43704 37646 11865 35469...</td>\n",
       "    </tr>\n",
       "    <tr>\n",
       "      <th>4</th>\n",
       "      <td>5</td>\n",
       "      <td>27344 24535 43693 40706 16168 21413 13988 3376...</td>\n",
       "    </tr>\n",
       "  </tbody>\n",
       "</table>\n",
       "</div>"
      ],
      "text/plain": [
       "   user_id                                     product_id_str\n",
       "0        1  196 12427 10258 25133 10326 17122 41787 13176 ...\n",
       "1        2  49451 32792 32139 34688 36735 37646 22829 2485...\n",
       "2        3  38596 21903 248 40604 8021 17668 21137 23650 3...\n",
       "3        4  22199 25146 1200 17769 43704 37646 11865 35469...\n",
       "4        5  27344 24535 43693 40706 16168 21413 13988 3376..."
      ]
     },
     "execution_count": 3,
     "metadata": {},
     "output_type": "execute_result"
    }
   ],
   "source": [
    "# userごとに、過去買ったアイテムをまとめる\n",
    "with timer('aggregate prior products'):\n",
    "    prior_orders['product_id_str'] = prior_orders['product_id'].astype(str)\n",
    "    prior_products = prior_orders.groupby('user_id')['product_id_str'].apply(lambda x: ' '.join(x)).reset_index()\n",
    "    \n",
    "prior_products.head()"
   ]
  },
  {
   "cell_type": "code",
   "execution_count": 4,
   "metadata": {},
   "outputs": [
    {
     "name": "stdout",
     "output_type": "stream",
     "text": [
      "make 1st submission - done in 1s\n"
     ]
    }
   ],
   "source": [
    "with timer('make 1st submission'):\n",
    "    orders_in_test = orders[orders['eval_set'] == 'test']\n",
    "\n",
    "    submission = pd.merge(orders_in_test[['user_id','order_id']], prior_products, on='user_id', how='left')\n",
    "    submission.drop('user_id', axis=1, inplace=True)\n",
    "    submission.columns = ['order_id', 'products']\n",
    "    submission.to_csv('../output/submission_baseline.csv', index=False)"
   ]
  },
  {
   "cell_type": "markdown",
   "metadata": {},
   "source": [
    "- Pandasは内部で列指向にデータを持っており、なるべく列をまたがない＆一度にたくさんの行を処理させた方が高速\n",
    "    - product_idの型変換はgroupbyの中でやらず、先にastype(str)で追加の列を作っておく"
   ]
  },
  {
   "cell_type": "markdown",
   "metadata": {},
   "source": [
    "## 4. モデル学習"
   ]
  },
  {
   "cell_type": "markdown",
   "metadata": {},
   "source": [
    "- user_id x item_idを1つの行として学習させる\n",
    "    - priorで買った＆trainで買わなかった…0\n",
    "    - priorで買った＆trainで買った…1\n",
    "    \n",
    "|eval_set|reordered|意味|\n",
    "|--|--|--|\n",
    "|prior|0,1|過去に買って、train/testで買わなかった(label==0)|\n",
    "|train/test|1|過去に買って、train/testで再注文(label==1)|\n",
    "|train/test|0|過去に買わず、train/testで初めて買った(学習対象外)|    "
   ]
  },
  {
   "cell_type": "code",
   "execution_count": 5,
   "metadata": {},
   "outputs": [
    {
     "name": "stdout",
     "output_type": "stream",
     "text": [
      "extract last order for each user-x-item - done in 14s\n"
     ]
    }
   ],
   "source": [
    "with timer('extract last order for each user-x-item'):\n",
    "    # 全データをまとめる\n",
    "    all = pd.merge(orders, pd.concat([train,prior]), on='order_id', how='left')\n",
    "    all.head()\n",
    "\n",
    "    # user x itemで最後のデータだけを残す\n",
    "    last_order_by_user_x_item = all.drop_duplicates(subset=['user_id','product_id'], keep='last')\n",
    "    last_order_by_user_x_item.head()"
   ]
  },
  {
   "cell_type": "code",
   "execution_count": null,
   "metadata": {},
   "outputs": [
    {
     "name": "stdout",
     "output_type": "stream",
     "text": [
      "open C:\\Users\\noumi\\AppData\\Local\\conda\\conda\\envs\\tensorflow\\lib\\site-packages\\lightgbm\\lib_lightgbm.dll\n",
      "   order_number  order_dow  order_hour_of_day  days_since_prior_order  \\\n",
      "0             1          2                  8                     NaN   \n",
      "1             3          3                 12                    21.0   \n",
      "2             5          4                 15                    28.0   \n",
      "3             5          4                 15                    28.0   \n",
      "4             5          4                 15                    28.0   \n",
      "\n",
      "   add_to_cart_order  is_train  target  \n",
      "0                2.0       1.0       0  \n",
      "1                5.0       1.0       0  \n",
      "2                5.0       1.0       0  \n",
      "3                6.0       1.0       0  \n",
      "4                7.0       1.0       0  \n",
      "make data - done in 7s\n"
     ]
    }
   ],
   "source": [
    "import lightgbm as lgb\n",
    "\n",
    "with timer('make data'):\n",
    "    # train/testでユーザーが振り分けられている\n",
    "    train_users = orders[['eval_set','user_id']][orders['eval_set'] =='train']\n",
    "    train_users['is_train'] = 1\n",
    "    train_users.drop('eval_set', axis=1, inplace=True)\n",
    "\n",
    "    # 最後のデータが\"train\"で、かつreordered==1のものはラベルが1\n",
    "    X = last_order_by_user_x_item.drop('order_id', axis=1)\n",
    "    X = pd.merge(X, train_users, on='user_id', how='left')\n",
    "\n",
    "    X = X[(X['eval_set'] == 'prior') | (X['reordered'] == 1.0)]\n",
    "    X['target'] = X['eval_set'] == 'train'\n",
    "    X['target'] = X['target'].astype(np.int8)\n",
    "    \n",
    "    # TODO: ここで特徴量エンジニアリングを色々する\n",
    "\n",
    "    print(X.head())\n",
    "    droplist = ['reordered', 'eval_set', 'user_id', 'product_id', 'is_train']\n",
    "    \n",
    "    X_train = X[X['is_train'] == 1.0].drop(droplist, axis=1)\n",
    "    X_test  = X[X['is_train'] == 0.0].drop(droplist, axis=1)\n",
    "\n",
    "    dtrain = lgb.Dataset(X_train.drop('target', axis=1), X_train['target'])\n",
    "    X_test.drop('target', axis=1, inplace=True)"
   ]
  },
  {
   "cell_type": "code",
   "execution_count": null,
   "metadata": {},
   "outputs": [
    {
     "name": "stdout",
     "output_type": "stream",
     "text": [
      "[50]\tcv_agg's auc: 0.741813 + 0.000356137\n",
      "[100]\tcv_agg's auc: 0.743675 + 0.000320226\n",
      "[150]\tcv_agg's auc: 0.744749 + 0.000346864\n",
      "[200]\tcv_agg's auc: 0.745684 + 0.000328303\n",
      "[250]\tcv_agg's auc: 0.746543 + 0.000274331\n",
      "[300]\tcv_agg's auc: 0.747296 + 0.000295992\n",
      "[350]\tcv_agg's auc: 0.748084 + 0.000320604\n",
      "[400]\tcv_agg's auc: 0.74881 + 0.000342262\n",
      "[450]\tcv_agg's auc: 0.749511 + 0.000322739\n",
      "[500]\tcv_agg's auc: 0.750225 + 0.000321\n",
      "[550]\tcv_agg's auc: 0.750822 + 0.000330886\n",
      "[600]\tcv_agg's auc: 0.751453 + 0.000328097\n",
      "[650]\tcv_agg's auc: 0.752118 + 0.00038093\n",
      "[700]\tcv_agg's auc: 0.752746 + 0.000402061\n",
      "[750]\tcv_agg's auc: 0.753343 + 0.000416048\n",
      "[800]\tcv_agg's auc: 0.753904 + 0.000433217\n",
      "[850]\tcv_agg's auc: 0.754446 + 0.000404878\n",
      "[900]\tcv_agg's auc: 0.754989 + 0.00037285\n"
     ]
    }
   ],
   "source": [
    "with timer('lgbm training'):\n",
    "    lgb_param = {\n",
    "        'objective' : 'binary',\n",
    "        'metric' : 'auc',\n",
    "        'num_leaves' : 15,\n",
    "        'seed' : 0,\n",
    "        'learning_rate' : 0.1\n",
    "    }\n",
    "\n",
    "    result = lgb.cv(lgb_param, dtrain, num_boost_round=10000, early_stopping_rounds=100, verbose_eval=50)\n",
    "    best_round = len(result['auc_mean'])\n",
    "    \n",
    "    print('best auc: {}, at round {}'.format(result['auc-mean'][-1], best_round))\n",
    "    \n",
    "    booster = lgb.train(lgb_param, dtrain, num_boost_round=int(best_round*1.1))"
   ]
  },
  {
   "cell_type": "code",
   "execution_count": null,
   "metadata": {},
   "outputs": [],
   "source": [
    "y_test = booster.predict(X_test)\n",
    "\n",
    "predicted = X_test[['order_id',]]"
   ]
  },
  {
   "cell_type": "markdown",
   "metadata": {},
   "source": [
    "## TODO:\n",
    "\n",
    "- LGBMClassifierの予測値をそのまま使っているが、コンペ指標に最適化されていない(Boschと同じ)。predict_proba -> 閾値最適化する\n",
    "    - metric/objectiveも適当\n",
    "- 特徴量エンジニアリング\n",
    "- prior/trainを1つずつずらしていくとデータの水増しができるはず"
   ]
  }
 ],
 "metadata": {
  "kernelspec": {
   "display_name": "Python 3",
   "language": "python",
   "name": "python3"
  },
  "language_info": {
   "codemirror_mode": {
    "name": "ipython",
    "version": 3
   },
   "file_extension": ".py",
   "mimetype": "text/x-python",
   "name": "python",
   "nbconvert_exporter": "python",
   "pygments_lexer": "ipython3",
   "version": "3.5.4"
  }
 },
 "nbformat": 4,
 "nbformat_minor": 2
}
