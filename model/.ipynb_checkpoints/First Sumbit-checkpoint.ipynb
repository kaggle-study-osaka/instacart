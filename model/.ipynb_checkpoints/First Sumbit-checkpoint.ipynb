{
 "cells": [
  {
   "cell_type": "markdown",
   "metadata": {},
   "source": [
    "# Instacart - Shortest Path to Submission\n",
    "## 1. 問題定義\n",
    "- userごとにorderの記録が時系列順に並んでいる\n",
    "- あるuserが過去注文したアイテムを再注文した場合、\"reorder\"フラグが立てられている\n",
    "- 各userの最新orderについて、reorderしたアイテムを複数予測する\n",
    "    - 実際にreorderしたアイテムを多く含み、かつreorderしたアイテムをなるべく含まないようにする\n",
    "    - ひとつもreorderが無いと予想した場合は\"None\"を出力する\n",
    "\n",
    "(参考)リレーション\n",
    "\n",
    "https://www.kaggle.com/c/instacart-market-basket-analysis/discussion/33205\n",
    "\n",
    "## 2. データを眺める\n",
    "略。公式のDataページかKernelを見てザックリ雰囲気をつかむ\n",
    "- https://www.kaggle.com/c/instacart-market-basket-analysis/data\n",
    "\n",
    "## 3. First Submission\n",
    "とりあえず、ユーザーごとに「過去買ったものは全部reorderする」という予測でsubmissionを作ってみる"
   ]
  },
  {
   "cell_type": "code",
   "execution_count": 1,
   "metadata": {},
   "outputs": [
    {
     "name": "stdout",
     "output_type": "stream",
     "text": [
      "load data - done in 1s\n"
     ]
    }
   ],
   "source": [
    "import pandas as pd\n",
    "import numpy as np\n",
    "import os\n",
    "import time\n",
    "from contextlib import contextmanager\n",
    "\n",
    "%matplotlib inline\n",
    "import matplotlib.pyplot as plt\n",
    "import seaborn as sns\n",
    "\n",
    "@contextmanager\n",
    "def timer(title):\n",
    "    t0 = time.time()\n",
    "    yield\n",
    "    print(\"{} - done in {:.0f}s\".format(title, time.time() - t0))\n",
    "\n",
    "# まずfeatherに変換しておく\n",
    "def load(path):\n",
    "    if not os.path.exists(path+'.f'):\n",
    "        pd.read_csv(path).to_feather(path+'.f')\n",
    "    return pd.read_feather(path+'.f')\n",
    "\n",
    "with timer('load data'):\n",
    "    aisles      = load('../input/aisles.csv')\n",
    "    departments = load('../input/departments.csv')\n",
    "    prior       = load('../input/order_products__prior.csv')\n",
    "    train       = load('../input/order_products__train.csv')\n",
    "    orders      = load('../input/orders.csv')\n",
    "    products    = load('../input/products.csv')"
   ]
  },
  {
   "cell_type": "code",
   "execution_count": 2,
   "metadata": {},
   "outputs": [
    {
     "name": "stdout",
     "output_type": "stream",
     "text": [
      "(32434489, 5)\n",
      "(13307953, 5)\n",
      "merge & drop duplicates - done in 11s\n"
     ]
    },
    {
     "data": {
      "text/html": [
       "<div>\n",
       "<style scoped>\n",
       "    .dataframe tbody tr th:only-of-type {\n",
       "        vertical-align: middle;\n",
       "    }\n",
       "\n",
       "    .dataframe tbody tr th {\n",
       "        vertical-align: top;\n",
       "    }\n",
       "\n",
       "    .dataframe thead th {\n",
       "        text-align: right;\n",
       "    }\n",
       "</style>\n",
       "<table border=\"1\" class=\"dataframe\">\n",
       "  <thead>\n",
       "    <tr style=\"text-align: right;\">\n",
       "      <th></th>\n",
       "      <th>order_id</th>\n",
       "      <th>product_id</th>\n",
       "      <th>add_to_cart_order</th>\n",
       "      <th>reordered</th>\n",
       "      <th>user_id</th>\n",
       "    </tr>\n",
       "  </thead>\n",
       "  <tbody>\n",
       "    <tr>\n",
       "      <th>0</th>\n",
       "      <td>2</td>\n",
       "      <td>33120</td>\n",
       "      <td>1</td>\n",
       "      <td>1</td>\n",
       "      <td>202279</td>\n",
       "    </tr>\n",
       "    <tr>\n",
       "      <th>1</th>\n",
       "      <td>2</td>\n",
       "      <td>28985</td>\n",
       "      <td>2</td>\n",
       "      <td>1</td>\n",
       "      <td>202279</td>\n",
       "    </tr>\n",
       "    <tr>\n",
       "      <th>2</th>\n",
       "      <td>2</td>\n",
       "      <td>9327</td>\n",
       "      <td>3</td>\n",
       "      <td>0</td>\n",
       "      <td>202279</td>\n",
       "    </tr>\n",
       "    <tr>\n",
       "      <th>3</th>\n",
       "      <td>2</td>\n",
       "      <td>45918</td>\n",
       "      <td>4</td>\n",
       "      <td>1</td>\n",
       "      <td>202279</td>\n",
       "    </tr>\n",
       "    <tr>\n",
       "      <th>4</th>\n",
       "      <td>2</td>\n",
       "      <td>30035</td>\n",
       "      <td>5</td>\n",
       "      <td>0</td>\n",
       "      <td>202279</td>\n",
       "    </tr>\n",
       "  </tbody>\n",
       "</table>\n",
       "</div>"
      ],
      "text/plain": [
       "   order_id  product_id  add_to_cart_order  reordered  user_id\n",
       "0         2       33120                  1          1   202279\n",
       "1         2       28985                  2          1   202279\n",
       "2         2        9327                  3          0   202279\n",
       "3         2       45918                  4          1   202279\n",
       "4         2       30035                  5          0   202279"
      ]
     },
     "execution_count": 2,
     "metadata": {},
     "output_type": "execute_result"
    }
   ],
   "source": [
    "# order-id/user-id/product-idを一つにまとめる\n",
    "with timer('merge & drop duplicates'):\n",
    "    prior_orders = pd.merge(prior, orders[['order_id','user_id']], on='order_id', how='left')\n",
    "    print(prior_orders.shape)\n",
    "    prior_orders.drop_duplicates(subset=['user_id','product_id'], inplace=True)\n",
    "    print(prior_orders.shape)   \n",
    "    \n",
    "prior_orders.head()"
   ]
  },
  {
   "cell_type": "code",
   "execution_count": 3,
   "metadata": {},
   "outputs": [
    {
     "name": "stdout",
     "output_type": "stream",
     "text": [
      "aggregate prior products - done in 17s\n"
     ]
    },
    {
     "data": {
      "text/html": [
       "<div>\n",
       "<style scoped>\n",
       "    .dataframe tbody tr th:only-of-type {\n",
       "        vertical-align: middle;\n",
       "    }\n",
       "\n",
       "    .dataframe tbody tr th {\n",
       "        vertical-align: top;\n",
       "    }\n",
       "\n",
       "    .dataframe thead th {\n",
       "        text-align: right;\n",
       "    }\n",
       "</style>\n",
       "<table border=\"1\" class=\"dataframe\">\n",
       "  <thead>\n",
       "    <tr style=\"text-align: right;\">\n",
       "      <th></th>\n",
       "      <th>user_id</th>\n",
       "      <th>product_id_str</th>\n",
       "    </tr>\n",
       "  </thead>\n",
       "  <tbody>\n",
       "    <tr>\n",
       "      <th>0</th>\n",
       "      <td>1</td>\n",
       "      <td>196 12427 10258 25133 10326 17122 41787 13176 ...</td>\n",
       "    </tr>\n",
       "    <tr>\n",
       "      <th>1</th>\n",
       "      <td>2</td>\n",
       "      <td>49451 32792 32139 34688 36735 37646 22829 2485...</td>\n",
       "    </tr>\n",
       "    <tr>\n",
       "      <th>2</th>\n",
       "      <td>3</td>\n",
       "      <td>38596 21903 248 40604 8021 17668 21137 23650 3...</td>\n",
       "    </tr>\n",
       "    <tr>\n",
       "      <th>3</th>\n",
       "      <td>4</td>\n",
       "      <td>22199 25146 1200 17769 43704 37646 11865 35469...</td>\n",
       "    </tr>\n",
       "    <tr>\n",
       "      <th>4</th>\n",
       "      <td>5</td>\n",
       "      <td>27344 24535 43693 40706 16168 21413 13988 3376...</td>\n",
       "    </tr>\n",
       "  </tbody>\n",
       "</table>\n",
       "</div>"
      ],
      "text/plain": [
       "   user_id                                     product_id_str\n",
       "0        1  196 12427 10258 25133 10326 17122 41787 13176 ...\n",
       "1        2  49451 32792 32139 34688 36735 37646 22829 2485...\n",
       "2        3  38596 21903 248 40604 8021 17668 21137 23650 3...\n",
       "3        4  22199 25146 1200 17769 43704 37646 11865 35469...\n",
       "4        5  27344 24535 43693 40706 16168 21413 13988 3376..."
      ]
     },
     "execution_count": 3,
     "metadata": {},
     "output_type": "execute_result"
    }
   ],
   "source": [
    "# userごとに、過去買ったアイテムをまとめる\n",
    "with timer('aggregate prior products'):\n",
    "    prior_orders['product_id_str'] = prior_orders['product_id'].astype(str)\n",
    "    prior_products = prior_orders.groupby('user_id')['product_id_str'].apply(lambda x: ' '.join(x)).reset_index()\n",
    "    \n",
    "prior_products.head()"
   ]
  },
  {
   "cell_type": "code",
   "execution_count": 4,
   "metadata": {},
   "outputs": [
    {
     "name": "stdout",
     "output_type": "stream",
     "text": [
      "make 1st submission - done in 1s\n"
     ]
    }
   ],
   "source": [
    "with timer('make 1st submission'):\n",
    "    orders_in_test = orders[orders['eval_set'] == 'test']\n",
    "\n",
    "    submission = pd.merge(orders_in_test[['user_id','order_id']], prior_products, on='user_id', how='left')\n",
    "    submission.drop('user_id', axis=1, inplace=True)\n",
    "    submission.columns = ['order_id', 'products']\n",
    "    submission.to_csv('../output/submission_baseline.csv', index=False)"
   ]
  },
  {
   "cell_type": "markdown",
   "metadata": {},
   "source": [
    "- Pandasは内部で列指向にデータを持っており、なるべく列をまたがない＆一度にたくさんの行を処理させた方が高速\n",
    "    - product_idの型変換はgroupbyの中でやらず、先にastype(str)で追加の列を作っておく"
   ]
  }
 ],
 "metadata": {
  "kernelspec": {
   "display_name": "Python 3",
   "language": "python",
   "name": "python3"
  },
  "language_info": {
   "codemirror_mode": {
    "name": "ipython",
    "version": 3
   },
   "file_extension": ".py",
   "mimetype": "text/x-python",
   "name": "python",
   "nbconvert_exporter": "python",
   "pygments_lexer": "ipython3",
   "version": "3.5.4"
  }
 },
 "nbformat": 4,
 "nbformat_minor": 2
}
