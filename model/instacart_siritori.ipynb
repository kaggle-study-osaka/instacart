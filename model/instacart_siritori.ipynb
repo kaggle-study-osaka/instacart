{
 "cells": [
  {
   "cell_type": "markdown",
   "metadata": {},
   "source": [
    "# データ読み込み"
   ]
  },
  {
   "cell_type": "code",
   "execution_count": 1,
   "metadata": {
    "collapsed": false
   },
   "outputs": [
    {
     "name": "stdout",
     "output_type": "stream",
     "text": [
      "load data - done in 4s\n"
     ]
    }
   ],
   "source": [
    "import pandas as pd\n",
    "import numpy as np\n",
    "import os\n",
    "import time\n",
    "from contextlib import contextmanager\n",
    "\n",
    "%matplotlib inline\n",
    "import matplotlib.pyplot as plt\n",
    "import seaborn as sns\n",
    "\n",
    "@contextmanager\n",
    "def timer(title):\n",
    "    t0 = time.time()\n",
    "    yield\n",
    "    print(\"{} - done in {:.0f}s\".format(title, time.time() - t0))\n",
    "\n",
    "# まずfeatherに変換しておく\n",
    "def load(path):\n",
    "    if not os.path.exists(path+'.f'):\n",
    "        pd.read_csv(path).to_feather(path+'.f')\n",
    "    return pd.read_feather(path+'.f')\n",
    "\n",
    "with timer('load data'):\n",
    "    aisles      = load('../input/aisles.csv')\n",
    "    departments = load('../input/departments.csv')\n",
    "    prior       = load('../input/order_products__prior.csv')\n",
    "    train       = load('../input/order_products__train.csv')\n",
    "    orders      = load('../input/orders.csv')\n",
    "    products    = load('../input/products.csv')"
   ]
  },
  {
   "cell_type": "markdown",
   "metadata": {},
   "source": [
    "# 前処理"
   ]
  },
  {
   "cell_type": "code",
   "execution_count": 2,
   "metadata": {
    "collapsed": false
   },
   "outputs": [
    {
     "name": "stdout",
     "output_type": "stream",
     "text": [
      "combine all - done in 27s\n"
     ]
    }
   ],
   "source": [
    "with timer('combine all'):\n",
    "    # 全データをまとめる\n",
    "    all = pd.merge(orders, pd.concat([train, prior]), on='order_id', how='left')\n",
    "    all.head()"
   ]
  },
  {
   "cell_type": "code",
   "execution_count": 3,
   "metadata": {
    "collapsed": false
   },
   "outputs": [
    {
     "name": "stdout",
     "output_type": "stream",
     "text": [
      "make unique - done in 40s\n"
     ]
    }
   ],
   "source": [
    "with timer('make unique'):\n",
    "    # user x itemで最後のデータだけを残す\n",
    "    last_order_by_user_x_item = all.drop_duplicates(subset=['user_id','product_id'], keep='last')\n",
    "    last_order_by_user_x_item = last_order_by_user_x_item[\n",
    "        (last_order_by_user_x_item['eval_set'] != 'train') |\n",
    "        (last_order_by_user_x_item['reordered'] == 1)\n",
    "    ]"
   ]
  },
  {
   "cell_type": "code",
   "execution_count": 4,
   "metadata": {
    "collapsed": false
   },
   "outputs": [
    {
     "name": "stdout",
     "output_type": "stream",
     "text": [
      "make user_id x product_id x target x is_train - done in 9s\n"
     ]
    },
    {
     "data": {
      "text/html": [
       "<div>\n",
       "<style scoped>\n",
       "    .dataframe tbody tr th:only-of-type {\n",
       "        vertical-align: middle;\n",
       "    }\n",
       "\n",
       "    .dataframe tbody tr th {\n",
       "        vertical-align: top;\n",
       "    }\n",
       "\n",
       "    .dataframe thead th {\n",
       "        text-align: right;\n",
       "    }\n",
       "</style>\n",
       "<table border=\"1\" class=\"dataframe\">\n",
       "  <thead>\n",
       "    <tr style=\"text-align: right;\">\n",
       "      <th></th>\n",
       "      <th>user_id</th>\n",
       "      <th>product_id</th>\n",
       "      <th>is_train</th>\n",
       "      <th>target</th>\n",
       "    </tr>\n",
       "  </thead>\n",
       "  <tbody>\n",
       "    <tr>\n",
       "      <th>1</th>\n",
       "      <td>1</td>\n",
       "      <td>14084</td>\n",
       "      <td>True</td>\n",
       "      <td>0</td>\n",
       "    </tr>\n",
       "    <tr>\n",
       "      <th>15</th>\n",
       "      <td>1</td>\n",
       "      <td>30450</td>\n",
       "      <td>True</td>\n",
       "      <td>0</td>\n",
       "    </tr>\n",
       "    <tr>\n",
       "      <th>25</th>\n",
       "      <td>1</td>\n",
       "      <td>10326</td>\n",
       "      <td>True</td>\n",
       "      <td>0</td>\n",
       "    </tr>\n",
       "    <tr>\n",
       "      <th>26</th>\n",
       "      <td>1</td>\n",
       "      <td>17122</td>\n",
       "      <td>True</td>\n",
       "      <td>0</td>\n",
       "    </tr>\n",
       "    <tr>\n",
       "      <th>27</th>\n",
       "      <td>1</td>\n",
       "      <td>41787</td>\n",
       "      <td>True</td>\n",
       "      <td>0</td>\n",
       "    </tr>\n",
       "  </tbody>\n",
       "</table>\n",
       "</div>"
      ],
      "text/plain": [
       "    user_id  product_id  is_train  target\n",
       "1         1       14084      True       0\n",
       "15        1       30450      True       0\n",
       "25        1       10326      True       0\n",
       "26        1       17122      True       0\n",
       "27        1       41787      True       0"
      ]
     },
     "execution_count": 4,
     "metadata": {},
     "output_type": "execute_result"
    }
   ],
   "source": [
    "# user x productを1行として、Train/Testの区分と目的変数の値を入れておく\n",
    "# 特徴量エンジニアリングはこのテーブルを基準にすることとする\n",
    "with timer('make user_id x product_id x target x is_train'):\n",
    "    # train/testでユーザーが振り分けられているので、trainに属するuserかどうかを列に追加\n",
    "    train_users = orders[['eval_set','user_id']][orders['eval_set'] =='train']\n",
    "    X = last_order_by_user_x_item[['user_id','product_id','eval_set']].dropna()\n",
    "    X['is_train'] = X['user_id'].isin(train_users['user_id'])\n",
    "    X['target'] = (X['eval_set'] == 'train').astype(np.int32)\n",
    "    X['product_id'] = X['product_id'].astype(np.int32)\n",
    "    X.drop('eval_set', axis=1, inplace=True)\n",
    "X.head()"
   ]
  },
  {
   "cell_type": "code",
   "execution_count": 6,
   "metadata": {
    "collapsed": false
   },
   "outputs": [],
   "source": [
    "if not os.path.exists('all.f'):\n",
    "    all.to_feather('all.f')"
   ]
  },
  {
   "cell_type": "code",
   "execution_count": 8,
   "metadata": {
    "collapsed": true
   },
   "outputs": [],
   "source": [
    "if not os.path.exists('X.f'):\n",
    "    X.reset_index().to_feather('X.f')"
   ]
  },
  {
   "cell_type": "markdown",
   "metadata": {},
   "source": [
    "# 特徴量エンジニアリング"
   ]
  },
  {
   "cell_type": "code",
   "execution_count": 10,
   "metadata": {
    "collapsed": false
   },
   "outputs": [],
   "source": [
    "# 過去の注文のみ\n",
    "all_prior = all[all['eval_set'] == 'prior']"
   ]
  },
  {
   "cell_type": "markdown",
   "metadata": {},
   "source": [
    "### 過去そのアイテムを何回注文しているか"
   ]
  },
  {
   "cell_type": "code",
   "execution_count": 11,
   "metadata": {
    "collapsed": false
   },
   "outputs": [],
   "source": [
    "n_orders = all_prior\\\n",
    "    .groupby(['user_id','product_id'])['order_number'] \\\n",
    "    .count() \\\n",
    "    .reset_index() \\\n",
    "    .rename(columns={'order_number':'n_orders'})\n",
    "X = pd.merge(X, n_orders, on=['user_id','product_id'], how='left')"
   ]
  },
  {
   "cell_type": "markdown",
   "metadata": {},
   "source": [
    "### どれくらいよくリピートする人か"
   ]
  },
  {
   "cell_type": "code",
   "execution_count": 12,
   "metadata": {
    "collapsed": true
   },
   "outputs": [],
   "source": [
    "reorder_rate = all_prior\\\n",
    "    .groupby(['user_id'])['reordered'] \\\n",
    "    .mean() \\\n",
    "    .reset_index() \\\n",
    "    .rename(columns={'reordered':'reorder_rate'})\n",
    "X = pd.merge(X, reorder_rate, on=['user_id'], how='left')"
   ]
  },
  {
   "cell_type": "markdown",
   "metadata": {},
   "source": [
    "### product情報"
   ]
  },
  {
   "cell_type": "code",
   "execution_count": 13,
   "metadata": {
    "collapsed": false
   },
   "outputs": [
    {
     "data": {
      "text/html": [
       "<div>\n",
       "<style scoped>\n",
       "    .dataframe tbody tr th:only-of-type {\n",
       "        vertical-align: middle;\n",
       "    }\n",
       "\n",
       "    .dataframe tbody tr th {\n",
       "        vertical-align: top;\n",
       "    }\n",
       "\n",
       "    .dataframe thead th {\n",
       "        text-align: right;\n",
       "    }\n",
       "</style>\n",
       "<table border=\"1\" class=\"dataframe\">\n",
       "  <thead>\n",
       "    <tr style=\"text-align: right;\">\n",
       "      <th></th>\n",
       "      <th>user_id</th>\n",
       "      <th>product_id</th>\n",
       "      <th>is_train</th>\n",
       "      <th>target</th>\n",
       "      <th>n_orders</th>\n",
       "      <th>reorder_rate</th>\n",
       "      <th>aisle_id</th>\n",
       "      <th>department_id</th>\n",
       "    </tr>\n",
       "  </thead>\n",
       "  <tbody>\n",
       "    <tr>\n",
       "      <th>0</th>\n",
       "      <td>1</td>\n",
       "      <td>14084</td>\n",
       "      <td>True</td>\n",
       "      <td>0</td>\n",
       "      <td>1</td>\n",
       "      <td>0.694915</td>\n",
       "      <td>91</td>\n",
       "      <td>16</td>\n",
       "    </tr>\n",
       "    <tr>\n",
       "      <th>1</th>\n",
       "      <td>1</td>\n",
       "      <td>30450</td>\n",
       "      <td>True</td>\n",
       "      <td>0</td>\n",
       "      <td>1</td>\n",
       "      <td>0.694915</td>\n",
       "      <td>88</td>\n",
       "      <td>13</td>\n",
       "    </tr>\n",
       "    <tr>\n",
       "      <th>2</th>\n",
       "      <td>1</td>\n",
       "      <td>10326</td>\n",
       "      <td>True</td>\n",
       "      <td>0</td>\n",
       "      <td>1</td>\n",
       "      <td>0.694915</td>\n",
       "      <td>24</td>\n",
       "      <td>4</td>\n",
       "    </tr>\n",
       "    <tr>\n",
       "      <th>3</th>\n",
       "      <td>1</td>\n",
       "      <td>17122</td>\n",
       "      <td>True</td>\n",
       "      <td>0</td>\n",
       "      <td>1</td>\n",
       "      <td>0.694915</td>\n",
       "      <td>24</td>\n",
       "      <td>4</td>\n",
       "    </tr>\n",
       "    <tr>\n",
       "      <th>4</th>\n",
       "      <td>1</td>\n",
       "      <td>41787</td>\n",
       "      <td>True</td>\n",
       "      <td>0</td>\n",
       "      <td>1</td>\n",
       "      <td>0.694915</td>\n",
       "      <td>24</td>\n",
       "      <td>4</td>\n",
       "    </tr>\n",
       "  </tbody>\n",
       "</table>\n",
       "</div>"
      ],
      "text/plain": [
       "   user_id  product_id  is_train  target  n_orders  reorder_rate  aisle_id  \\\n",
       "0        1       14084      True       0         1      0.694915        91   \n",
       "1        1       30450      True       0         1      0.694915        88   \n",
       "2        1       10326      True       0         1      0.694915        24   \n",
       "3        1       17122      True       0         1      0.694915        24   \n",
       "4        1       41787      True       0         1      0.694915        24   \n",
       "\n",
       "   department_id  \n",
       "0             16  \n",
       "1             13  \n",
       "2              4  \n",
       "3              4  \n",
       "4              4  "
      ]
     },
     "execution_count": 13,
     "metadata": {},
     "output_type": "execute_result"
    }
   ],
   "source": [
    "X = pd.merge(X, products.drop('product_name',axis=1), on='product_id', how='left')\n",
    "X.head()"
   ]
  },
  {
   "cell_type": "markdown",
   "metadata": {},
   "source": [
    "### そのユーザの最後の注文番号(＝総注文回数)"
   ]
  },
  {
   "cell_type": "code",
   "execution_count": 14,
   "metadata": {
    "collapsed": false
   },
   "outputs": [],
   "source": [
    "max_user_order_number = all[all['eval_set'] != 'prior']\\\n",
    "    .groupby(['user_id'])\\\n",
    "    .max()['order_number']\\\n",
    "    .reset_index()\\\n",
    "    .rename(columns={'order_number': 'max_user_order_number'})\n",
    "X = pd.merge(X, max_user_order_number, on=['user_id'], how='left')"
   ]
  },
  {
   "cell_type": "markdown",
   "metadata": {},
   "source": [
    "### priorにおけるそのアイテムの最後の注文番号"
   ]
  },
  {
   "cell_type": "code",
   "execution_count": 15,
   "metadata": {
    "collapsed": false
   },
   "outputs": [],
   "source": [
    "last_order_number = all[all['eval_set'] == 'prior']\\\n",
    "    .groupby(['user_id', 'product_id'])['order_number']\\\n",
    "    .max()\\\n",
    "    .reset_index()\\\n",
    "    .rename(columns={'order_number': 'last_order_number'})\n",
    "last_order_number['product_id'] = last_order_number['product_id'].astype('int32')\n",
    "X = pd.merge(X, last_order_number, on=['user_id', 'product_id'], how='left')"
   ]
  },
  {
   "cell_type": "markdown",
   "metadata": {},
   "source": [
    "### 最後にアイテムを買って経過した注文の回数\n",
    "最後に買ってから回数が開けば開くほど買いずらそう(調味料とかはそうでもないかも)"
   ]
  },
  {
   "cell_type": "code",
   "execution_count": 16,
   "metadata": {
    "collapsed": false
   },
   "outputs": [],
   "source": [
    "X['diff_order_number'] = X['max_user_order_number'] - X['last_order_number']"
   ]
  },
  {
   "cell_type": "markdown",
   "metadata": {},
   "source": [
    "### ユーザごとのアイテムのリピート率"
   ]
  },
  {
   "cell_type": "code",
   "execution_count": 17,
   "metadata": {
    "collapsed": false
   },
   "outputs": [],
   "source": [
    "X['product_order_rate'] = X['n_orders'] / X['max_user_order_number']"
   ]
  },
  {
   "cell_type": "code",
   "execution_count": 18,
   "metadata": {
    "collapsed": false
   },
   "outputs": [
    {
     "data": {
      "text/html": [
       "<div>\n",
       "<style scoped>\n",
       "    .dataframe tbody tr th:only-of-type {\n",
       "        vertical-align: middle;\n",
       "    }\n",
       "\n",
       "    .dataframe tbody tr th {\n",
       "        vertical-align: top;\n",
       "    }\n",
       "\n",
       "    .dataframe thead th {\n",
       "        text-align: right;\n",
       "    }\n",
       "</style>\n",
       "<table border=\"1\" class=\"dataframe\">\n",
       "  <thead>\n",
       "    <tr style=\"text-align: right;\">\n",
       "      <th></th>\n",
       "      <th>user_id</th>\n",
       "      <th>product_id</th>\n",
       "      <th>is_train</th>\n",
       "      <th>target</th>\n",
       "      <th>n_orders</th>\n",
       "      <th>reorder_rate</th>\n",
       "      <th>aisle_id</th>\n",
       "      <th>department_id</th>\n",
       "      <th>max_user_order_number</th>\n",
       "      <th>last_order_number</th>\n",
       "      <th>diff_order_number</th>\n",
       "      <th>product_order_rate</th>\n",
       "    </tr>\n",
       "  </thead>\n",
       "  <tbody>\n",
       "    <tr>\n",
       "      <th>0</th>\n",
       "      <td>1</td>\n",
       "      <td>14084</td>\n",
       "      <td>True</td>\n",
       "      <td>0</td>\n",
       "      <td>1</td>\n",
       "      <td>0.694915</td>\n",
       "      <td>91</td>\n",
       "      <td>16</td>\n",
       "      <td>11</td>\n",
       "      <td>1</td>\n",
       "      <td>10</td>\n",
       "      <td>0.090909</td>\n",
       "    </tr>\n",
       "    <tr>\n",
       "      <th>1</th>\n",
       "      <td>1</td>\n",
       "      <td>30450</td>\n",
       "      <td>True</td>\n",
       "      <td>0</td>\n",
       "      <td>1</td>\n",
       "      <td>0.694915</td>\n",
       "      <td>88</td>\n",
       "      <td>13</td>\n",
       "      <td>11</td>\n",
       "      <td>3</td>\n",
       "      <td>8</td>\n",
       "      <td>0.090909</td>\n",
       "    </tr>\n",
       "    <tr>\n",
       "      <th>2</th>\n",
       "      <td>1</td>\n",
       "      <td>10326</td>\n",
       "      <td>True</td>\n",
       "      <td>0</td>\n",
       "      <td>1</td>\n",
       "      <td>0.694915</td>\n",
       "      <td>24</td>\n",
       "      <td>4</td>\n",
       "      <td>11</td>\n",
       "      <td>5</td>\n",
       "      <td>6</td>\n",
       "      <td>0.090909</td>\n",
       "    </tr>\n",
       "    <tr>\n",
       "      <th>3</th>\n",
       "      <td>1</td>\n",
       "      <td>17122</td>\n",
       "      <td>True</td>\n",
       "      <td>0</td>\n",
       "      <td>1</td>\n",
       "      <td>0.694915</td>\n",
       "      <td>24</td>\n",
       "      <td>4</td>\n",
       "      <td>11</td>\n",
       "      <td>5</td>\n",
       "      <td>6</td>\n",
       "      <td>0.090909</td>\n",
       "    </tr>\n",
       "    <tr>\n",
       "      <th>4</th>\n",
       "      <td>1</td>\n",
       "      <td>41787</td>\n",
       "      <td>True</td>\n",
       "      <td>0</td>\n",
       "      <td>1</td>\n",
       "      <td>0.694915</td>\n",
       "      <td>24</td>\n",
       "      <td>4</td>\n",
       "      <td>11</td>\n",
       "      <td>5</td>\n",
       "      <td>6</td>\n",
       "      <td>0.090909</td>\n",
       "    </tr>\n",
       "  </tbody>\n",
       "</table>\n",
       "</div>"
      ],
      "text/plain": [
       "   user_id  product_id  is_train  target  n_orders  reorder_rate  aisle_id  \\\n",
       "0        1       14084      True       0         1      0.694915        91   \n",
       "1        1       30450      True       0         1      0.694915        88   \n",
       "2        1       10326      True       0         1      0.694915        24   \n",
       "3        1       17122      True       0         1      0.694915        24   \n",
       "4        1       41787      True       0         1      0.694915        24   \n",
       "\n",
       "   department_id  max_user_order_number  last_order_number  diff_order_number  \\\n",
       "0             16                     11                  1                 10   \n",
       "1             13                     11                  3                  8   \n",
       "2              4                     11                  5                  6   \n",
       "3              4                     11                  5                  6   \n",
       "4              4                     11                  5                  6   \n",
       "\n",
       "   product_order_rate  \n",
       "0            0.090909  \n",
       "1            0.090909  \n",
       "2            0.090909  \n",
       "3            0.090909  \n",
       "4            0.090909  "
      ]
     },
     "execution_count": 18,
     "metadata": {},
     "output_type": "execute_result"
    }
   ],
   "source": [
    "X.head()"
   ]
  },
  {
   "cell_type": "markdown",
   "metadata": {},
   "source": [
    "### アイテム自体の平均リピート率"
   ]
  },
  {
   "cell_type": "code",
   "execution_count": 19,
   "metadata": {
    "collapsed": false
   },
   "outputs": [],
   "source": [
    "product_repeat_mean_rate = X[['product_id', 'product_order_rate']]\\\n",
    "    .groupby('product_id')['product_order_rate']\\\n",
    "    .mean()\\\n",
    "    .reset_index()\\\n",
    "    .rename(columns={'product_order_rate': 'product_order_mean_rate'})\n",
    "X = pd.merge(X, product_repeat_mean_rate, on=['product_id'], how='left')"
   ]
  },
  {
   "cell_type": "code",
   "execution_count": 38,
   "metadata": {
    "collapsed": false
   },
   "outputs": [
    {
     "data": {
      "text/plain": [
       "user_id\n",
       "1    190.0\n",
       "2    228.0\n",
       "3    144.0\n",
       "4      0.0\n",
       "Name: days_since_prior_order, dtype: float64"
      ]
     },
     "execution_count": 38,
     "metadata": {},
     "output_type": "execute_result"
    }
   ],
   "source": [
    "orders.head(n=40).sort_values('user_id').groupby('user_id')['days_since_prior_order'].sum()"
   ]
  },
  {
   "cell_type": "markdown",
   "metadata": {},
   "source": [
    "# モデル作成"
   ]
  },
  {
   "cell_type": "code",
   "execution_count": 22,
   "metadata": {
    "collapsed": false
   },
   "outputs": [
    {
     "name": "stdout",
     "output_type": "stream",
     "text": [
      "train: (8474661, 11), test: (4833292, 11)\n",
      "split data - done in 8s\n"
     ]
    },
    {
     "data": {
      "text/html": [
       "<div>\n",
       "<style scoped>\n",
       "    .dataframe tbody tr th:only-of-type {\n",
       "        vertical-align: middle;\n",
       "    }\n",
       "\n",
       "    .dataframe tbody tr th {\n",
       "        vertical-align: top;\n",
       "    }\n",
       "\n",
       "    .dataframe thead th {\n",
       "        text-align: right;\n",
       "    }\n",
       "</style>\n",
       "<table border=\"1\" class=\"dataframe\">\n",
       "  <thead>\n",
       "    <tr style=\"text-align: right;\">\n",
       "      <th></th>\n",
       "      <th>product_id</th>\n",
       "      <th>target</th>\n",
       "      <th>n_orders</th>\n",
       "      <th>reorder_rate</th>\n",
       "      <th>aisle_id</th>\n",
       "      <th>department_id</th>\n",
       "      <th>max_user_order_number</th>\n",
       "      <th>last_order_number</th>\n",
       "      <th>diff_order_number</th>\n",
       "      <th>product_order_rate</th>\n",
       "      <th>product_order_mean_rate</th>\n",
       "    </tr>\n",
       "    <tr>\n",
       "      <th>user_id</th>\n",
       "      <th></th>\n",
       "      <th></th>\n",
       "      <th></th>\n",
       "      <th></th>\n",
       "      <th></th>\n",
       "      <th></th>\n",
       "      <th></th>\n",
       "      <th></th>\n",
       "      <th></th>\n",
       "      <th></th>\n",
       "      <th></th>\n",
       "    </tr>\n",
       "  </thead>\n",
       "  <tbody>\n",
       "    <tr>\n",
       "      <th>1</th>\n",
       "      <td>14084</td>\n",
       "      <td>0</td>\n",
       "      <td>1</td>\n",
       "      <td>0.694915</td>\n",
       "      <td>91</td>\n",
       "      <td>16</td>\n",
       "      <td>11</td>\n",
       "      <td>1</td>\n",
       "      <td>10</td>\n",
       "      <td>0.090909</td>\n",
       "      <td>0.243518</td>\n",
       "    </tr>\n",
       "    <tr>\n",
       "      <th>1</th>\n",
       "      <td>30450</td>\n",
       "      <td>0</td>\n",
       "      <td>1</td>\n",
       "      <td>0.694915</td>\n",
       "      <td>88</td>\n",
       "      <td>13</td>\n",
       "      <td>11</td>\n",
       "      <td>3</td>\n",
       "      <td>8</td>\n",
       "      <td>0.090909</td>\n",
       "      <td>0.125801</td>\n",
       "    </tr>\n",
       "    <tr>\n",
       "      <th>1</th>\n",
       "      <td>10326</td>\n",
       "      <td>0</td>\n",
       "      <td>1</td>\n",
       "      <td>0.694915</td>\n",
       "      <td>24</td>\n",
       "      <td>4</td>\n",
       "      <td>11</td>\n",
       "      <td>5</td>\n",
       "      <td>6</td>\n",
       "      <td>0.090909</td>\n",
       "      <td>0.174475</td>\n",
       "    </tr>\n",
       "    <tr>\n",
       "      <th>1</th>\n",
       "      <td>17122</td>\n",
       "      <td>0</td>\n",
       "      <td>1</td>\n",
       "      <td>0.694915</td>\n",
       "      <td>24</td>\n",
       "      <td>4</td>\n",
       "      <td>11</td>\n",
       "      <td>5</td>\n",
       "      <td>6</td>\n",
       "      <td>0.090909</td>\n",
       "      <td>0.176111</td>\n",
       "    </tr>\n",
       "    <tr>\n",
       "      <th>1</th>\n",
       "      <td>41787</td>\n",
       "      <td>0</td>\n",
       "      <td>1</td>\n",
       "      <td>0.694915</td>\n",
       "      <td>24</td>\n",
       "      <td>4</td>\n",
       "      <td>11</td>\n",
       "      <td>5</td>\n",
       "      <td>6</td>\n",
       "      <td>0.090909</td>\n",
       "      <td>0.150892</td>\n",
       "    </tr>\n",
       "  </tbody>\n",
       "</table>\n",
       "</div>"
      ],
      "text/plain": [
       "         product_id  target  n_orders  reorder_rate  aisle_id  department_id  \\\n",
       "user_id                                                                        \n",
       "1             14084       0         1      0.694915        91             16   \n",
       "1             30450       0         1      0.694915        88             13   \n",
       "1             10326       0         1      0.694915        24              4   \n",
       "1             17122       0         1      0.694915        24              4   \n",
       "1             41787       0         1      0.694915        24              4   \n",
       "\n",
       "         max_user_order_number  last_order_number  diff_order_number  \\\n",
       "user_id                                                                \n",
       "1                           11                  1                 10   \n",
       "1                           11                  3                  8   \n",
       "1                           11                  5                  6   \n",
       "1                           11                  5                  6   \n",
       "1                           11                  5                  6   \n",
       "\n",
       "         product_order_rate  product_order_mean_rate  \n",
       "user_id                                               \n",
       "1                  0.090909                 0.243518  \n",
       "1                  0.090909                 0.125801  \n",
       "1                  0.090909                 0.174475  \n",
       "1                  0.090909                 0.176111  \n",
       "1                  0.090909                 0.150892  "
      ]
     },
     "execution_count": 22,
     "metadata": {},
     "output_type": "execute_result"
    }
   ],
   "source": [
    "import lightgbm as lgb\n",
    "\n",
    "with timer('split data'):\n",
    "    X.set_index('user_id', inplace=True)\n",
    "    X['product_id'] = X['product_id'].astype(np.int32)\n",
    "  \n",
    "    X_train = X[X['is_train']].drop('is_train', axis=1)\n",
    "    X_test  = X[~X['is_train']].drop('is_train', axis=1)\n",
    "\n",
    "    dtrain = lgb.Dataset(X_train.drop(['target'], axis=1), X_train['target'])\n",
    "    \n",
    "    print('train: {}, test: {}'.format(X_train.shape, X_test.shape))\n",
    "    \n",
    "X_train.head()"
   ]
  },
  {
   "cell_type": "code",
   "execution_count": 23,
   "metadata": {
    "collapsed": false
   },
   "outputs": [
    {
     "name": "stdout",
     "output_type": "stream",
     "text": [
      "split...\n",
      "train...\n",
      "\n",
      "split...\n",
      "train...\n",
      "\n",
      "split...\n",
      "train...\n",
      "\n"
     ]
    }
   ],
   "source": [
    "# Cross-Validation\n",
    "boosters = []\n",
    "from sklearn.model_selection import KFold\n",
    "for train_idx, _test_idx in KFold(n_splits=3).split(X_train):\n",
    "    print('split...')\n",
    "    xs_train = X_train.iloc[train_idx].drop(['target'], axis=1)\n",
    "    y_train = X_train.iloc[train_idx]['target']\n",
    "    dtrain = lgb.Dataset(xs_train, y_train)\n",
    "    print('train...')\n",
    "    best_round = 300\n",
    "    booster = lgb.train({\n",
    "        'objective' : 'binary',\n",
    "        'boosting_type': 'gbdt',\n",
    "        'metric' : 'binary_logloss',\n",
    "        'num_leaves' : 15,\n",
    "        'seed' : 0,\n",
    "        'learning_rate' : 0.1\n",
    "    }, dtrain, num_boost_round=int(best_round * 1.1))\n",
    "    boosters.append(booster)\n",
    "    print()"
   ]
  },
  {
   "cell_type": "code",
   "execution_count": 24,
   "metadata": {
    "collapsed": false
   },
   "outputs": [
    {
     "name": "stdout",
     "output_type": "stream",
     "text": [
      "split...\n",
      "predict...\n",
      "\n",
      "split...\n",
      "predict...\n",
      "\n",
      "split...\n",
      "predict...\n",
      "\n"
     ]
    }
   ],
   "source": [
    "# Cross-Validation\n",
    "from sklearn.model_selection import KFold\n",
    "y_preds = []\n",
    "y_tests = []\n",
    "for i, (_train_idx, test_idx) in enumerate(KFold(n_splits=3).split(X_train)):\n",
    "    print('split...')\n",
    "    xs_test = X_train.iloc[test_idx].drop(['target'], axis=1)\n",
    "    y_test = X_train.iloc[test_idx]['target']\n",
    "\n",
    "    print('predict...')\n",
    "    y_pred = boosters[i].predict(xs_test).tolist()\n",
    "    y_preds = y_preds + y_pred\n",
    "    y_tests = y_tests + y_test.tolist()\n",
    "    print()"
   ]
  },
  {
   "cell_type": "code",
   "execution_count": 25,
   "metadata": {
    "collapsed": false
   },
   "outputs": [
    {
     "name": "stdout",
     "output_type": "stream",
     "text": [
      "max score: 0.4314389869884209\n",
      "best threshold: 0.21034482758620693\n"
     ]
    },
    {
     "data": {
      "image/png": "[encoded data removed]",
      "text/plain": [
       "<Figure size 432x288 with 1 Axes>"
      ]
     },
     "metadata": {},
     "output_type": "display_data"
    }
   ],
   "source": [
    "# 適切な閾値を探す\n",
    "from sklearn.metrics import f1_score\n",
    "thresholds = np.linspace(0.1, 0.5, 30)\n",
    "scores = np.array([f1_score(y_tests, y_preds > thr) for thr in thresholds])\n",
    "plt.plot(thresholds, scores)\n",
    "best_threshold = thresholds[scores.argmax()]\n",
    "print('max score: {}'.format(scores.max()))\n",
    "print('best threshold: {}'.format(best_threshold))"
   ]
  },
  {
   "cell_type": "code",
   "execution_count": 48,
   "metadata": {
    "collapsed": false
   },
   "outputs": [
    {
     "name": "stdout",
     "output_type": "stream",
     "text": [
      "lgbm training - done in 171s\n"
     ]
    }
   ],
   "source": [
    "# 全部つかって学習\n",
    "with timer('lgbm training'):\n",
    "    best_round = 500 # TODO CVのearly-stoppingからイテレーション数を決める\n",
    "    booster = lgb.train({\n",
    "        'objective' : 'binary',\n",
    "        'boosting_type': 'gbdt',\n",
    "        'metric' : 'binary_logloss',\n",
    "        'num_leaves' : 15,\n",
    "        'seed' : 0,\n",
    "        'learning_rate' : 0.01\n",
    "    }, dtrain, num_boost_round=int(best_round * 1.1))"
   ]
  },
  {
   "cell_type": "code",
   "execution_count": 49,
   "metadata": {
    "collapsed": false
   },
   "outputs": [
    {
     "data": {
      "text/plain": [
       "<matplotlib.axes._subplots.AxesSubplot at 0x1fef0acd898>"
      ]
     },
     "execution_count": 49,
     "metadata": {},
     "output_type": "execute_result"
    },
    {
     "data": {
      "image/png": "[encoded data removed]",
      "text/plain": [
       "<Figure size 432x288 with 1 Axes>"
      ]
     },
     "metadata": {},
     "output_type": "display_data"
    }
   ],
   "source": [
    "pd.DataFrame(\n",
    "    data=[c for c in zip(X_train.columns.drop('target'), booster.feature_importance())],\n",
    "    columns=['name', 'importance']\n",
    ").sort_values('importance').plot(x='name', kind='barh')"
   ]
  },
  {
   "cell_type": "code",
   "execution_count": 50,
   "metadata": {
    "collapsed": true
   },
   "outputs": [],
   "source": [
    "predicted = X_test.reset_index()[['user_id','product_id']]\n",
    "\n",
    "test_users = orders[['eval_set','user_id','order_id']][orders['eval_set'] =='test']\n",
    "predicted = pd.merge(predicted, test_users, on='user_id', how='left')\n",
    "\n",
    "predicted['y'] = booster.predict(X_test.drop('target',axis=1))"
   ]
  },
  {
   "cell_type": "code",
   "execution_count": 51,
   "metadata": {
    "collapsed": false
   },
   "outputs": [
    {
     "data": {
      "text/html": [
       "<div>\n",
       "<style scoped>\n",
       "    .dataframe tbody tr th:only-of-type {\n",
       "        vertical-align: middle;\n",
       "    }\n",
       "\n",
       "    .dataframe tbody tr th {\n",
       "        vertical-align: top;\n",
       "    }\n",
       "\n",
       "    .dataframe thead th {\n",
       "        text-align: right;\n",
       "    }\n",
       "</style>\n",
       "<table border=\"1\" class=\"dataframe\">\n",
       "  <thead>\n",
       "    <tr style=\"text-align: right;\">\n",
       "      <th></th>\n",
       "      <th>order_id</th>\n",
       "      <th>products</th>\n",
       "    </tr>\n",
       "  </thead>\n",
       "  <tbody>\n",
       "    <tr>\n",
       "      <th>13407</th>\n",
       "      <td>17</td>\n",
       "      <td>21709 47766 13107 21463</td>\n",
       "    </tr>\n",
       "    <tr>\n",
       "      <th>12775</th>\n",
       "      <td>34</td>\n",
       "      <td>39180 21137 43504 47766 16083 2596 39475 13176...</td>\n",
       "    </tr>\n",
       "    <tr>\n",
       "      <th>68056</th>\n",
       "      <td>137</td>\n",
       "      <td>38689 29594 25890 24852 41787 23794 5134 2326</td>\n",
       "    </tr>\n",
       "    <tr>\n",
       "      <th>42239</th>\n",
       "      <td>182</td>\n",
       "      <td>47209 13629 5479 47672 9337 39275 33000</td>\n",
       "    </tr>\n",
       "    <tr>\n",
       "      <th>12915</th>\n",
       "      <td>257</td>\n",
       "      <td>45013 4605 24838 13870 21137 49235 24852 30233...</td>\n",
       "    </tr>\n",
       "  </tbody>\n",
       "</table>\n",
       "</div>"
      ],
      "text/plain": [
       "       order_id                                           products\n",
       "13407        17                            21709 47766 13107 21463\n",
       "12775        34  39180 21137 43504 47766 16083 2596 39475 13176...\n",
       "68056       137      38689 29594 25890 24852 41787 23794 5134 2326\n",
       "42239       182            47209 13629 5479 47672 9337 39275 33000\n",
       "12915       257  45013 4605 24838 13870 21137 49235 24852 30233..."
      ]
     },
     "execution_count": 51,
     "metadata": {},
     "output_type": "execute_result"
    }
   ],
   "source": [
    "th = best_threshold\n",
    "\n",
    "predicted['product_id'] = predicted['product_id'].astype(str)\n",
    "\n",
    "# 閾値を超えた行だけを抜き出して、submit用に整形\n",
    "sub = predicted[predicted['y'] > th].groupby(['order_id'])['product_id'] \\\n",
    "                                    .apply(lambda x: ' '.join(x)) \\\n",
    "                                    .reset_index() \\\n",
    "                                    .rename(columns={'product_id':'products'})\n",
    "\n",
    "# 閾値をひとつも超えなかったオーダーが抜けてしまうので、Join->fillnaでNoneを埋める\n",
    "sub = pd.merge(test_users[['order_id']], sub, on='order_id', how='left')\n",
    "sub.fillna('None', inplace=True)\n",
    "\n",
    "sub.sort_values(by='order_id', inplace=True)\n",
    "sub.head()"
   ]
  },
  {
   "cell_type": "code",
   "execution_count": 52,
   "metadata": {
    "collapsed": true
   },
   "outputs": [],
   "source": [
    "sub.to_csv('../output/submission.csv', index=False)"
   ]
  },
  {
   "cell_type": "code",
   "execution_count": null,
   "metadata": {
    "collapsed": true
   },
   "outputs": [],
   "source": []
  }
 ],
 "metadata": {
  "anaconda-cloud": {},
  "kernelspec": {
   "display_name": "Python [conda env:Anaconda3]",
   "language": "python",
   "name": "conda-env-Anaconda3-py"
  },
  "language_info": {
   "codemirror_mode": {
    "name": "ipython",
    "version": 3
   },
   "file_extension": ".py",
   "mimetype": "text/x-python",
   "name": "python",
   "nbconvert_exporter": "python",
   "pygments_lexer": "ipython3",
   "version": "3.5.2"
  }
 },
 "nbformat": 4,
 "nbformat_minor": 1
}
